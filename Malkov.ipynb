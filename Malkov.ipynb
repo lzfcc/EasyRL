{
 "cells": [
  {
   "cell_type": "code",
   "execution_count": 4,
   "id": "3113c29b",
   "metadata": {},
   "outputs": [
    {
     "data": {
      "text/plain": [
       "array([[-2. ,  1. ],\n",
       "       [ 1.5, -0.5]])"
      ]
     },
     "execution_count": 4,
     "metadata": {},
     "output_type": "execute_result"
    }
   ],
   "source": [
    "''' How to calculate the inverse of a matrix in Python? '''\n",
    "import numpy as np\n",
    "from numpy.linalg import inv\n",
    "a = np.array([[1., 2.], [3., 4.]])\n",
    "inv(a)"
   ]
  },
  {
   "cell_type": "code",
   "execution_count": 26,
   "id": "395c0fdc",
   "metadata": {},
   "outputs": [
    {
     "name": "stdout",
     "output_type": "stream",
     "text": [
      "[[6.78125  ]\n",
      " [5.390625 ]\n",
      " [2.6953125]\n",
      " [5.4375   ]]\n",
      "[[ 1.]\n",
      " [ 0.]\n",
      " [-1.]\n",
      " [-1.]] [[ True]\n",
      " [ True]\n",
      " [False]\n",
      " [False]] True\n"
     ]
    }
   ],
   "source": [
    "''' Analytic solution of a Bellman equation '''\n",
    "import numpy as np\n",
    "from numpy.linalg import inv\n",
    "\n",
    "P = np.array([[0.1, 0.2, 0., 0.7], [1., 0., 0., 0.], [0., 1., 0., 0.], [0., 0.3, 0.2, 0.5]])\n",
    "gamma = 0.5\n",
    "R = np.array([[4], [2], [0], [3]])\n",
    "\n",
    "V = inv(np.identity(4) - gamma * P).dot(R) \n",
    "\n",
    "print(V)\n",
    "# a = np.array([[0.95, -0.1, 0, -0.35], [-0.5, 1, 0, 0], [0, -0.5, 1, 0], [0, -0.15, -0.1, 0.75]])\n",
    "# inv(a) *"
   ]
  },
  {
   "cell_type": "code",
   "execution_count": null,
   "id": "7d4ab143",
   "metadata": {},
   "outputs": [],
   "source": [
    "''' Iterative solution of a Bellman equation'''\n",
    "import numpy as np\n",
    "from numpy.linalg import inv\n",
    "\n",
    "P = np.array([[0.1, 0.2, 0., 0.7], [1., 0., 0., 0.], [0., 1., 0., 0.], [0., 0.3, 0.2, 0.5]])\n",
    "gamma = 0.5\n",
    "R = np.array([[4], [2], [0], [3]])\n",
    "\n",
    "V = np.ones([4, 1]) * 1e9\n",
    "V_next = np.zeros([4, 1])\n",
    "eps = np.ones([4, 1]) * 1e-3\n",
    "\n",
    "count = 0\n",
    "while np.any(np.abs(V - V_next) > eps):\n",
    "    V = V_next\n",
    "    V_next = R + gamma * P.dot(V)\n",
    "    print(\"V=\", V, \"\\nV_next=\", V_next)\n",
    "    count += 1\n",
    "    if count > 100:\n",
    "        break\n",
    "        \n",
    "print(V_next)"
   ]
  },
  {
   "cell_type": "code",
   "execution_count": null,
   "id": "d51fb2ae",
   "metadata": {},
   "outputs": [],
   "source": [
    "import numpy as np\n",
    "V = np.ones([4, 1]) * 2\n",
    "U = np.array([[3], [2], [1], [1]])\n",
    "print(U - V, U >= V, np.all(V))"
   ]
  }
 ],
 "metadata": {
  "kernelspec": {
   "display_name": "Python 3 (ipykernel)",
   "language": "python",
   "name": "python3"
  },
  "language_info": {
   "codemirror_mode": {
    "name": "ipython",
    "version": 3
   },
   "file_extension": ".py",
   "mimetype": "text/x-python",
   "name": "python",
   "nbconvert_exporter": "python",
   "pygments_lexer": "ipython3",
   "version": "3.10.9"
  }
 },
 "nbformat": 4,
 "nbformat_minor": 5
}
