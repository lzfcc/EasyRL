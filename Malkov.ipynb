{
 "cells": [
  {
   "cell_type": "code",
   "execution_count": 4,
   "id": "3113c29b",
   "metadata": {},
   "outputs": [
    {
     "data": {
      "text/plain": [
       "array([[-2. ,  1. ],\n",
       "       [ 1.5, -0.5]])"
      ]
     },
     "execution_count": 4,
     "metadata": {},
     "output_type": "execute_result"
    }
   ],
   "source": [
    "''' How to calculate the inverse of a matrix in Python? '''\n",
    "import numpy as np\n",
    "from numpy.linalg import inv\n",
    "a = np.array([[1., 2.], [3., 4.]])\n",
    "inv(a)"
   ]
  },
  {
   "cell_type": "code",
   "execution_count": 26,
   "id": "395c0fdc",
   "metadata": {},
   "outputs": [
    {
     "name": "stdout",
     "output_type": "stream",
     "text": [
      "[[6.78125  ]\n",
      " [5.390625 ]\n",
      " [2.6953125]\n",
      " [5.4375   ]]\n",
      "[[ 1.]\n",
      " [ 0.]\n",
      " [-1.]\n",
      " [-1.]] [[ True]\n",
      " [ True]\n",
      " [False]\n",
      " [False]] True\n"
     ]
    }
   ],
   "source": [
    "''' Analytic solution of a Bellman equation '''\n",
    "import numpy as np\n",
    "from numpy.linalg import inv\n",
    "\n",
    "P = np.array([[0.1, 0.2, 0., 0.7], [1., 0., 0., 0.], [0., 1., 0., 0.], [0., 0.3, 0.2, 0.5]])\n",
    "gamma = 0.5\n",
    "R = np.array([[4], [2], [0], [3]])\n",
    "\n",
    "V = inv(np.identity(4) - gamma * P).dot(R) \n",
    "\n",
    "print(V)\n",
    "# a = np.array([[0.95, -0.1, 0, -0.35], [-0.5, 1, 0, 0], [0, -0.5, 1, 0], [0, -0.15, -0.1, 0.75]])\n",
    "# inv(a) *"
   ]
  },
  {
   "cell_type": "code",
   "execution_count": 2,
   "id": "7d4ab143",
   "metadata": {},
   "outputs": [
    {
     "name": "stdout",
     "output_type": "stream",
     "text": [
      "V= [[0.]\n",
      " [0.]\n",
      " [0.]\n",
      " [0.]] \n",
      "V_next= [[4.]\n",
      " [2.]\n",
      " [0.]\n",
      " [3.]]\n",
      "V= [[4.]\n",
      " [2.]\n",
      " [0.]\n",
      " [3.]] \n",
      "V_next= [[5.45]\n",
      " [4.  ]\n",
      " [1.  ]\n",
      " [4.05]]\n",
      "V= [[5.45]\n",
      " [4.  ]\n",
      " [1.  ]\n",
      " [4.05]] \n",
      "V_next= [[6.09  ]\n",
      " [4.725 ]\n",
      " [2.    ]\n",
      " [4.7125]]\n",
      "V= [[6.09  ]\n",
      " [4.725 ]\n",
      " [2.    ]\n",
      " [4.7125]] \n",
      "V_next= [[6.426375]\n",
      " [5.045   ]\n",
      " [2.3625  ]\n",
      " [5.086875]]\n",
      "V= [[6.426375]\n",
      " [5.045   ]\n",
      " [2.3625  ]\n",
      " [5.086875]] \n",
      "V_next= [[6.606225  ]\n",
      " [5.2131875 ]\n",
      " [2.5225    ]\n",
      " [5.26471875]]\n",
      "V= [[6.606225  ]\n",
      " [5.2131875 ]\n",
      " [2.5225    ]\n",
      " [5.26471875]] \n",
      "V_next= [[6.69428156]\n",
      " [5.3031125 ]\n",
      " [2.60659375]\n",
      " [5.35040781]]\n",
      "V= [[6.69428156]\n",
      " [5.3031125 ]\n",
      " [2.60659375]\n",
      " [5.35040781]] \n",
      "V_next= [[6.73766806]\n",
      " [5.34714078]\n",
      " [2.65155625]\n",
      " [5.3937282 ]]\n",
      "V= [[6.73766806]\n",
      " [5.34714078]\n",
      " [2.65155625]\n",
      " [5.3937282 ]] \n",
      "V_next= [[6.75940235]\n",
      " [5.36883403]\n",
      " [2.67357039]\n",
      " [5.41565879]]\n",
      "V= [[6.75940235]\n",
      " [5.36883403]\n",
      " [2.67357039]\n",
      " [5.41565879]] \n",
      "V_next= [[6.7703341 ]\n",
      " [5.37970118]\n",
      " [2.68441702]\n",
      " [5.42659684]]\n",
      "V= [[6.7703341 ]\n",
      " [5.37970118]\n",
      " [2.68441702]\n",
      " [5.42659684]] \n",
      "V_next= [[6.77579572]\n",
      " [5.38516705]\n",
      " [2.68985059]\n",
      " [5.43204609]]\n",
      "V= [[6.77579572]\n",
      " [5.38516705]\n",
      " [2.68985059]\n",
      " [5.43204609]] \n",
      "V_next= [[6.77852262]\n",
      " [5.38789786]\n",
      " [2.69258352]\n",
      " [5.43477164]]\n",
      "V= [[6.77852262]\n",
      " [5.38789786]\n",
      " [2.69258352]\n",
      " [5.43477164]] \n",
      "V_next= [[6.77988599]\n",
      " [5.38926131]\n",
      " [2.69394893]\n",
      " [5.43613594]]\n",
      "V= [[6.77988599]\n",
      " [5.38926131]\n",
      " [2.69394893]\n",
      " [5.43613594]] \n",
      "V_next= [[6.78056801]\n",
      " [5.389943  ]\n",
      " [2.69463066]\n",
      " [5.43681807]]\n",
      "[[6.78056801]\n",
      " [5.389943  ]\n",
      " [2.69463066]\n",
      " [5.43681807]]\n"
     ]
    }
   ],
   "source": [
    "''' Iterative solution of a Bellman equation'''\n",
    "import numpy as np\n",
    "from numpy.linalg import inv\n",
    "\n",
    "P = np.array([[0.1, 0.2, 0., 0.7], [1., 0., 0., 0.], [0., 1., 0., 0.], [0., 0.3, 0.2, 0.5]])\n",
    "gamma = 0.5\n",
    "R = np.array([[4], [2], [0], [3]])\n",
    "\n",
    "V = np.ones([4, 1]) * 1e9\n",
    "V_next = np.zeros([4, 1])\n",
    "eps = np.ones([4, 1]) * 1e-3\n",
    "\n",
    "count = 0\n",
    "while np.any(np.abs(V - V_next) > eps):\n",
    "    V = V_next\n",
    "    V_next = R + gamma * P.dot(V)\n",
    "    print(\"V=\", V, \"\\nV_next=\", V_next)\n",
    "    count += 1\n",
    "    if count > 100:\n",
    "        break\n",
    "        \n",
    "print(V_next)"
   ]
  },
  {
   "cell_type": "code",
   "execution_count": 1,
   "id": "d51fb2ae",
   "metadata": {},
   "outputs": [
    {
     "ename": "NameError",
     "evalue": "name 'np' is not defined",
     "output_type": "error",
     "traceback": [
      "\u001b[1;31m---------------------------------------------------------------------------\u001b[0m",
      "\u001b[1;31mNameError\u001b[0m                                 Traceback (most recent call last)",
      "Cell \u001b[1;32mIn[1], line 1\u001b[0m\n\u001b[1;32m----> 1\u001b[0m V \u001b[39m=\u001b[39m np\u001b[39m.\u001b[39mones([\u001b[39m4\u001b[39m, \u001b[39m1\u001b[39m]) \u001b[39m*\u001b[39m \u001b[39m2\u001b[39m\n\u001b[0;32m      2\u001b[0m U \u001b[39m=\u001b[39m np\u001b[39m.\u001b[39marray([[\u001b[39m3\u001b[39m], [\u001b[39m2\u001b[39m], [\u001b[39m1\u001b[39m], [\u001b[39m1\u001b[39m]])\n\u001b[0;32m      3\u001b[0m \u001b[39mprint\u001b[39m(U \u001b[39m-\u001b[39m V, U \u001b[39m>\u001b[39m\u001b[39m=\u001b[39m V, np\u001b[39m.\u001b[39mall(V))\n",
      "\u001b[1;31mNameError\u001b[0m: name 'np' is not defined"
     ]
    }
   ],
   "source": [
    "V = np.ones([4, 1]) * 2\n",
    "U = np.array([[3], [2], [1], [1]])\n",
    "print(U - V, U >= V, np.all(V))"
   ]
  },
  {
   "cell_type": "code",
   "execution_count": null,
   "id": "c43eccd6",
   "metadata": {},
   "outputs": [],
   "source": []
  }
 ],
 "metadata": {
  "kernelspec": {
   "display_name": "Python 3 (ipykernel)",
   "language": "python",
   "name": "python3"
  },
  "language_info": {
   "codemirror_mode": {
    "name": "ipython",
    "version": 3
   },
   "file_extension": ".py",
   "mimetype": "text/x-python",
   "name": "python",
   "nbconvert_exporter": "python",
   "pygments_lexer": "ipython3",
   "version": "3.10.9"
  }
 },
 "nbformat": 4,
 "nbformat_minor": 5
}
